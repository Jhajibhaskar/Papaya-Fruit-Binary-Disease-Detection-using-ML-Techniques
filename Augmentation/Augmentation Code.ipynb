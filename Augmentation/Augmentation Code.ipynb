{
 "cells": [
  {
   "cell_type": "code",
   "execution_count": null,
   "id": "ed85ad6b",
   "metadata": {
    "scrolled": false
   },
   "outputs": [],
   "source": [
    "import cv2 as cv\n",
    "import os\n",
    "\n",
    "path = 'C:\\\\Users\\\\ujjwa\\\\Downloads\\\\Final Year Project\\\\Augmentation\\\\Diseased_Resized' #Input Folder Path\n",
    "d_path = 'C:\\\\Users\\\\ujjwa\\\\Downloads\\\\Final Year Project\\\\Augmentation\\\\Diseased Augmented' #Output Folder Path\n",
    "\n",
    "# Check if the destination directory exists, and create it if necessary\n",
    "if not os.path.exists(d_path):\n",
    "    os.makedirs(d_path)\n",
    "\n",
    "list_of_files = os.listdir(path)\n",
    "\n",
    "for file_name in list_of_files:\n",
    "    # Construct the full file path\n",
    "    full_path = os.path.join(path, file_name)\n",
    "\n",
    "    if os.path.isfile(full_path):\n",
    "        image = cv.imread(full_path)\n",
    "\n",
    "        if image is not None:\n",
    "            output_filename = 'a0_' + file_name\n",
    "            output_path = os.path.join(d_path, output_filename)\n",
    "            cv.imwrite(output_path, image)\n",
    "            print(f\"Saved {output_filename}\")\n",
    "\n",
    "            # Augmenting\n",
    "            image2 = cv.flip(image, 1)\n",
    "            image3 = cv.flip(image, -1)\n",
    "            image4 = cv.flip(image2, -1)\n",
    "            cv.imwrite(os.path.join(d_path, 'a1_' + file_name), image2)\n",
    "            cv.imwrite(os.path.join(d_path, 'a2_' + file_name), image3)\n",
    "            cv.imwrite(os.path.join(d_path, 'a3_' + file_name), image4)\n",
    "\n",
    "for file_name in list_of_files:\n",
    "    # Construct the full file path\n",
    "    full_path = os.path.join(path, file_name)\n",
    "\n",
    "    if os.path.isfile(full_path):\n",
    "        image = cv.imread(full_path)\n",
    "\n",
    "        if image is not None:\n",
    "            # Augmenting\n",
    "            image2 = cv.rotate(image, cv.ROTATE_90_CLOCKWISE)\n",
    "            image3 = cv.rotate(image, cv.ROTATE_180)\n",
    "            image4 = cv.rotate(image, cv.ROTATE_90_COUNTERCLOCKWISE)\n",
    "            cv.imwrite(os.path.join(d_path, 'r1_' + file_name), image2)\n",
    "            cv.imwrite(os.path.join(d_path, 'r2_' + file_name), image3)\n",
    "            cv.imwrite(os.path.join(d_path, 'r3_' + file_name), image4)\n",
    "\n",
    "print(\"The Image Count after Rotating is\", len(list_of_files))"
   ]
  },
  {
   "cell_type": "code",
   "execution_count": null,
   "id": "3dea33c4",
   "metadata": {},
   "outputs": [],
   "source": []
  }
 ],
 "metadata": {
  "kernelspec": {
   "display_name": "Python 3 (ipykernel)",
   "language": "python",
   "name": "python3"
  },
  "language_info": {
   "codemirror_mode": {
    "name": "ipython",
    "version": 3
   },
   "file_extension": ".py",
   "mimetype": "text/x-python",
   "name": "python",
   "nbconvert_exporter": "python",
   "pygments_lexer": "ipython3",
   "version": "3.10.1"
  }
 },
 "nbformat": 4,
 "nbformat_minor": 5
}
