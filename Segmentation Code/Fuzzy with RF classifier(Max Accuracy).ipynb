{
 "cells": [
  {
   "cell_type": "code",
   "execution_count": 11,
   "id": "90a0713a",
   "metadata": {},
   "outputs": [],
   "source": [
    "import pandas as pd\n",
    "import os\n",
    "from skimage.transform import resize\n",
    "from skimage.io import imread\n",
    "import numpy as np\n",
    "import matplotlib.pyplot as plt\n",
    "from sklearn.model_selection import GridSearchCV\n",
    "from skimage.filters import sobel\n",
    "from sklearn.metrics import confusion_matrix, ConfusionMatrixDisplay\n",
    "import seaborn as sns\n",
    "from sklearn.metrics import accuracy_score, confusion_matrix, precision_score, recall_score,f1_score\n",
    "from sklearn.metrics import mean_squared_error\n",
    "from sklearn.decomposition import PCA\n",
    "from sklearn.preprocessing import StandardScaler\n",
    "from skimage.feature import canny\n",
    "from skimage.io import imread, imshow\n",
    "from skimage import io, color, util\n",
    "from skimage.filters import prewitt_h,prewitt_v\n",
    "from sklearn.cluster import KMeans\n",
    "from sklearn.preprocessing import MinMaxScaler\n",
    "from sklearn.model_selection import train_test_split\n",
    "import cv2\n",
    "import skfuzzy as fuzz\n",
    "\n",
    "from sklearn.metrics import accuracy_score\n",
    "from sklearn.metrics import classification_report\n",
    "from sklearn.metrics import accuracy_score, confusion_matrix, precision_score, recall_score,f1_score"
   ]
  },
  {
   "cell_type": "code",
   "execution_count": 12,
   "id": "2964f5cf",
   "metadata": {
    "scrolled": true
   },
   "outputs": [
    {
     "name": "stdout",
     "output_type": "stream",
     "text": [
      "loading... category : Diseased\n",
      "C:\\Users\\vivek\\project\\root\\Augmentation\\dataset\\Diseased\n",
      "loaded category:Diseased successfully\n",
      "loading... category : Healthy\n",
      "C:\\Users\\vivek\\project\\root\\Augmentation\\dataset\\Healthy\n",
      "loaded category:Healthy successfully\n",
      "x: (7000, 4096)\n",
      "y: (7000,)\n",
      "Splitted Successfully\n"
     ]
    }
   ],
   "source": [
    "# Define the categories\n",
    "Categories = ['Diseased', 'Healthy']\n",
    "\n",
    "flat_data_arr = []  # Input array\n",
    "target_arr = []  # Output array\n",
    "datadir = 'C:\\\\Users\\\\vivek\\\\project\\\\root\\\\Augmentation\\\\dataset' \n",
    "\n",
    "# Load images and perform image segmentation using Fuzzy C-Means clustering\n",
    "for category in Categories:\n",
    "    print(f'Loading category: {category}')\n",
    "    path = os.path.join(datadir, category)\n",
    "    for img in os.listdir(path):\n",
    "        img_path = os.path.join(path, img)\n",
    "        img_array = io.imread(img_path)\n",
    "        \n",
    "        # Convert the image to grayscale\n",
    "        img_gray = color.rgb2gray(img_array)\n",
    "        \n",
    "        # Resize the image to a desired size (e.g., 64x64)\n",
    "        img_resized = resize(img_gray, (64, 64))\n",
    "        \n",
    "        # Flatten the image\n",
    "        img_flattened = img_resized.flatten()\n",
    "        \n",
    "        flat_data_arr.append(img_flattened)\n",
    "        target_arr.append(Categories.index(category))\n",
    "    \n",
    "    print(f'Loaded category: {category} successfully')\n",
    "\n",
    "# Convert the data to numpy arrays\n",
    "flat_data = np.array(flat_data_arr)\n",
    "target = np.array(target_arr)\n",
    "\n",
    "# Apply Fuzzy C-Means clustering\n",
    "n_clusters = len(Categories)  # Number of clusters\n",
    "fuzziness = 2.0  # Fuzziness parameter (typically 2.0)\n",
    "max_iter = 100  # Maximum number of iterations\n",
    "\n",
    "# Scale the data\n",
    "scaler = MinMaxScaler()\n",
    "flat_data_scaled = scaler.fit_transform(flat_data)\n",
    "\n",
    "# Perform Fuzzy C-Means clustering\n",
    "cntr, u, u0, d, jm, p, fpc = fuzz.cluster.cmeans(flat_data_scaled.T, n_clusters, fuzziness,\n",
    "                                                 maxiter=max_iter, error=0.005)\n",
    "\n",
    "\n",
    "# The u matrix contains the membership values for each pixel and each cluster\n",
    "# Convert u matrix to cluster labels\n",
    "cluster_labels = np.argmax(u, axis=0)\n",
    "\n",
    "# Create a DataFrame for the clustered data\n",
    "df = pd.DataFrame(flat_data)\n",
    "df['Target'] = target\n",
    "df['Cluster'] = cluster_labels\n",
    "\n",
    "# Split the data into training and testing sets\n",
    "x = df.iloc[:, :-2]  # Input data\n",
    "y = df['Cluster']  # Cluster labels as output\n",
    "x_train, x_test, y_train, y_test = train_test_split(x, y, test_size=0.20, random_state=77, stratify=y)\n",
    "\n",
    "print(\"x:\", x.shape)\n",
    "print(\"y:\", y.shape)\n",
    "print('Splitted Successfully')\n",
    "\n"
   ]
  },
  {
   "cell_type": "code",
   "execution_count": 13,
   "id": "f2ef317c",
   "metadata": {
    "scrolled": true
   },
   "outputs": [
    {
     "name": "stdout",
     "output_type": "stream",
     "text": [
      "RandomForestClassifier\n",
      "              precision    recall  f1-score   support\n",
      "\n",
      "           0       0.94      0.88      0.91       753\n",
      "           1       0.87      0.94      0.90       647\n",
      "\n",
      "    accuracy                           0.90      1400\n",
      "   macro avg       0.90      0.91      0.90      1400\n",
      "weighted avg       0.91      0.90      0.90      1400\n",
      "\n",
      "Accuracy: 90.36 %\n",
      "Precision: 90.64 %\n",
      "Recall: 90.36 %\n",
      "f1_score: 89.98 %\n",
      "TrainingAccuracy: 96.52 %\n"
     ]
    },
    {
     "data": {
      "image/png": "[encoded data removed]",
      "text/plain": [
       "<Figure size 640x480 with 2 Axes>"
      ]
     },
     "metadata": {},
     "output_type": "display_data"
    }
   ],
   "source": [
    "#RandomForestClassifier\n",
    "print(\"RandomForestClassifier\")\n",
    "\n",
    "from sklearn.ensemble import RandomForestClassifier\n",
    "#model_rf=RandomForestClassifier()\n",
    "model_rf=RandomForestClassifier(n_estimators=100, criterion='gini', max_depth=None, \n",
    "min_samples_split=12, min_samples_leaf=5, min_weight_fraction_leaf=0.0, max_features='log2',\n",
    "max_leaf_nodes=None, min_impurity_decrease=0.0, bootstrap=True, oob_score=False, n_jobs=None,   random_state=None, verbose=0, warm_start=False, class_weight=None, ccp_alpha=0.0, max_samples=None)\n",
    "\n",
    "model_rf.fit(x_train,y_train)\n",
    "y_pred_rf=model_rf.predict(x_test)\n",
    "y_pred_rf\n",
    "acc_rf=accuracy_score(y_pred_rf,y_test)\n",
    "print(classification_report(y_pred_rf,y_test))\n",
    "\n",
    "cf_matrix = confusion_matrix(y_true=y_test, y_pred=y_pred_rf)\n",
    "\n",
    "#print(cf_matrix)\n",
    "#sns.heatmap(cf_matrix, annot=True)\n",
    "sns.heatmap(cf_matrix/np.sum(cf_matrix), annot=True, fmt='.2%')\n",
    "a_rf = accuracy_score(y_pred_rf,y_test) \n",
    "p_rf = precision_score(y_pred_rf,y_test, average = 'weighted')\n",
    "r_rf = recall_score(y_pred_rf,y_test, average = 'weighted')\n",
    "print(\"Accuracy:\",round(a_rf*100,2),\"%\")\n",
    "print(\"Precision:\",round(p_rf*100,2),\"%\")\n",
    "print(\"Recall:\",round(r_rf*100,2),\"%\")\n",
    "f1_rf = f1_score(y_test, y_pred_rf)\n",
    "print(\"f1_score:\",round(f1_rf*100,2),\"%\")\n",
    "Training_accuracy_rf=accuracy_score(y_train, model_rf.predict(x_train))\n",
    "print(\"TrainingAccuracy:\",round(Training_accuracy_rf*100,2),\"%\")\n",
    "\n",
    "\n"
   ]
  },
  {
   "cell_type": "code",
   "execution_count": null,
   "id": "a13a1a5c",
   "metadata": {},
   "outputs": [],
   "source": []
  }
 ],
 "metadata": {
  "kernelspec": {
   "display_name": "Python 3 (ipykernel)",
   "language": "python",
   "name": "python3"
  },
  "language_info": {
   "codemirror_mode": {
    "name": "ipython",
    "version": 3
   },
   "file_extension": ".py",
   "mimetype": "text/x-python",
   "name": "python",
   "nbconvert_exporter": "python",
   "pygments_lexer": "ipython3",
   "version": "3.9.16"
  }
 },
 "nbformat": 4,
 "nbformat_minor": 5
}
