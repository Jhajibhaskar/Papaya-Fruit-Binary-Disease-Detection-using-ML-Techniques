{
 "cells": [
  {
   "cell_type": "code",
   "execution_count": 12,
   "id": "e50e7488",
   "metadata": {},
   "outputs": [],
   "source": [
    "import pandas as pd\n",
    "import os\n",
    "from skimage.transform import resize\n",
    "from skimage.io import imread\n",
    "import numpy as np\n",
    "import matplotlib.pyplot as plt\n",
    "from sklearn.model_selection import GridSearchCV\n",
    "from skimage.filters import sobel\n",
    "from sklearn.metrics import confusion_matrix, ConfusionMatrixDisplay\n",
    "import seaborn as sns\n",
    "from sklearn.metrics import accuracy_score, confusion_matrix, precision_score, recall_score,f1_score\n",
    "from sklearn.metrics import mean_squared_error\n",
    "from sklearn.decomposition import PCA\n",
    "from sklearn.preprocessing import StandardScaler\n",
    "from sklearn.model_selection import train_test_split\n",
    "import cv2\n",
    "from scipy import ndimage\n",
    "from sklearn.metrics import accuracy_score\n",
    "from sklearn.metrics import classification_report\n",
    "from sklearn.metrics import accuracy_score, confusion_matrix, precision_score, recall_score,f1_score"
   ]
  },
  {
   "cell_type": "code",
   "execution_count": 13,
   "id": "ba6855ee",
   "metadata": {},
   "outputs": [
    {
     "name": "stdout",
     "output_type": "stream",
     "text": [
      "loading... category : Diseased\n",
      "loaded category:Diseased successfully\n",
      "loading... category : Healthy\n",
      "loaded category:Healthy successfully\n",
      "x: (7000, 4096)\n",
      "y: (7000,)\n",
      "Splitted Successfully\n"
     ]
    }
   ],
   "source": [
    "Categories=['Diseased','Healthy']\n",
    "flat_data_arr=[] #input array\n",
    "target_arr=[] #output array\n",
    "datadir='C:\\\\Users\\\\vivek\\\\project\\\\root\\\\Augmentation\\\\dataset' \n",
    "#datadir='D:/SIoT/dataset/Augmented_DataSet/AugmentedSet_320px/trail_dataset_ac_healthy_copy/' \n",
    "#datadir='D:/SIoT/dataset/Augmented_DataSet/AugmentedSet_320px/trail_dataset_ac_healthy_pddb/'\n",
    "#path which contains all the categories of images\n",
    "for i in Categories:\n",
    "    \n",
    "    print(f'loading... category : {i}')\n",
    "    path=os.path.join(datadir,i)\n",
    "    for img in os.listdir(path):\n",
    "        #img = cv2.imread(os.path.join(path,img),0)\n",
    "        #img_gray = cv2.cvtColor(img_array, cv2.COLOR_BGR2GRAY)\n",
    "             \n",
    "        img_array=imread(os.path.join(path,img))\n",
    "        img_gray = cv2.cvtColor(img_array, cv2.COLOR_BGR2GRAY)\n",
    "        edge_image = sobel(img_gray) \n",
    "        \n",
    "        #vertical = np.uint8(np.absolute(cv2.Sobel(img,cv2.CV_64F, 1,0, ksize=1)))\n",
    "        # vertical = sobel(img)\n",
    "        #cv2.imshow('Vertical', vertical)\n",
    "        img_resize = cv2.resize(edge_image, (64,64))\n",
    "        #ret, thresh1 = cv2.threshold(result_image, 120, 255, cv2.THRESH_BINARY + cv2.THRESH_OTSU)\n",
    "        #edge_image = sobel(result_image) # apply the filter  \n",
    "        \n",
    "        flat_data_arr.append(img_resize.flatten())\n",
    "        target_arr.append(Categories.index(i))\n",
    "    print(f'loaded category:{i} successfully')\n",
    "flat_data=np.array(flat_data_arr)\n",
    "target=np.array(target_arr)\n",
    "df=pd.DataFrame(flat_data) #dataframe\n",
    "df['Target']=target\n",
    "x=df.iloc[:,:-1] #input data \n",
    "y=df.iloc[:,-1] #output data\n",
    "\n",
    " #output data\n",
    "#x_train,x_test,y_train,y_test=train_test_split(x,y,test_size=0.20,random_state=77,stratify=y)\n",
    "\n",
    "print(\"x:\",x.shape)\n",
    "print(\"y:\",y.shape)\n",
    "# print(\"result_image:\",result_image.shape)\n",
    "\n",
    "# print(\"flatdata:\",flat_data.shape)\n",
    "x_train,x_test,y_train,y_test=train_test_split(x,y,test_size=.20,random_state=77,stratify=y)\n",
    "print('Splitted Successfully')"
   ]
  },
  {
   "cell_type": "code",
   "execution_count": 14,
   "id": "44924c24",
   "metadata": {},
   "outputs": [
    {
     "name": "stdout",
     "output_type": "stream",
     "text": [
      "The model is 79.0% accurate\n",
      "              precision    recall  f1-score   support\n",
      "\n",
      "           0       0.80      0.79      0.79       712\n",
      "           1       0.78      0.80      0.79       688\n",
      "\n",
      "    accuracy                           0.79      1400\n",
      "   macro avg       0.79      0.79      0.79      1400\n",
      "weighted avg       0.79      0.79      0.79      1400\n",
      "\n",
      "Accuracy: 79.0 %\n",
      "Precision: 79.01 %\n",
      "Recall: 79.0 %\n",
      "f1_score: 78.82 %\n",
      "TrainingAccuracy: 99.12 %\n"
     ]
    },
    {
     "data": {
      "image/png": "[encoded data removed]",
      "text/plain": [
       "<Figure size 640x480 with 2 Axes>"
      ]
     },
     "metadata": {},
     "output_type": "display_data"
    }
   ],
   "source": [
    "#DecisionTreeClassifier\n",
    "from sklearn.model_selection import train_test_split\n",
    "from sklearn.tree import DecisionTreeClassifier\n",
    "\n",
    "\n",
    "\n",
    "dtc=DecisionTreeClassifier(criterion='gini', splitter='best', max_depth=25, min_samples_split=2, min_samples_leaf=1,   \n",
    "                           min_weight_fraction_leaf=0.0,max_features=None, random_state=None, \n",
    "                           max_leaf_nodes=None,  min_impurity_decrease=0.0, class_weight=None, ccp_alpha=0.0)\n",
    "dtc.fit(x_train,y_train)\n",
    "y_pred_dtc=dtc.predict(x_test)\n",
    "'''print(\"The predicted Data is :\")\n",
    "print(y_pred_dtc)\n",
    "print(\"The actual data is:\")\n",
    "print(np.array(y_test))'''\n",
    "print(f\"The model is {accuracy_score(y_pred_dtc,y_test)*100}% accurate\")\n",
    "\n",
    "\n",
    "accuracy_score(y_pred_dtc,y_test)\n",
    "print(classification_report(y_pred_dtc,y_test))\n",
    "#Build confusion matrix\n",
    "# Calculate the confusion matrix\n",
    "\n",
    "cf_matrix = confusion_matrix(y_true=y_test, y_pred=y_pred_dtc)\n",
    "\n",
    "#print(cf_matrix)\n",
    "#sns.heatmap(cf_matrix, annot=True)\n",
    "sns.heatmap(cf_matrix/np.sum(cf_matrix), annot=True, fmt='.2%')\n",
    "a_dtc = accuracy_score(y_pred_dtc,y_test) \n",
    "p_dtc = precision_score(y_pred_dtc,y_test, average = 'weighted')\n",
    "r_dtc = recall_score(y_pred_dtc,y_test, average = 'weighted')\n",
    "print(\"Accuracy:\",round(a_dtc*100,2),\"%\")\n",
    "print(\"Precision:\",round(p_dtc*100,2),\"%\")\n",
    "print(\"Recall:\",round(r_dtc*100,2),\"%\")\n",
    "f1_dtc = f1_score(y_test, y_pred_dtc)\n",
    "print(\"f1_score:\",round(f1_dtc*100,2),\"%\")\n",
    "Training_accuracy_dtc=accuracy_score(y_train, dtc.predict(x_train))\n",
    "print(\"TrainingAccuracy:\",round(Training_accuracy_dtc*100,2),\"%\")\n",
    "\n",
    "\n"
   ]
  },
  {
   "cell_type": "code",
   "execution_count": 15,
   "id": "cfea8377",
   "metadata": {},
   "outputs": [
    {
     "name": "stdout",
     "output_type": "stream",
     "text": [
      "The the NB model is 83.92857142857143% accurate\n",
      "              precision    recall  f1-score   support\n",
      "\n",
      "           0       0.81      0.86      0.83       653\n",
      "           1       0.87      0.82      0.84       747\n",
      "\n",
      "    accuracy                           0.84      1400\n",
      "   macro avg       0.84      0.84      0.84      1400\n",
      "weighted avg       0.84      0.84      0.84      1400\n",
      "\n",
      "Accuracy: 83.93 %\n",
      "Precision: 84.08 %\n",
      "Recall: 83.93 %\n",
      "f1_score: 84.45 %\n",
      "TrainingAccuracy: 84.61 %\n"
     ]
    },
    {
     "data": {
      "image/png": "[encoded data removed]",
      "text/plain": [
       "<Figure size 640x480 with 2 Axes>"
      ]
     },
     "metadata": {},
     "output_type": "display_data"
    }
   ],
   "source": [
    "#GaussianNB\n",
    "from sklearn.naive_bayes import GaussianNB\n",
    "from sklearn.metrics import classification_report\n",
    "nb=GaussianNB()\n",
    "nb.fit(x_train,y_train)\n",
    "y_pred_nb=nb.predict(x_test)\n",
    "#print(\"predicted data is:\")\n",
    "#print(y_pred_nb)\n",
    "#print(\"actual data is:\")\n",
    "#print(np.array(y_test))\n",
    "\n",
    "print(f\"The the NB model is {accuracy_score(y_pred_nb,y_test)*100}% accurate\")\n",
    "print(classification_report(y_pred_nb,y_test))\n",
    "#Build confusion matrix\n",
    "# Calculate the confusion matrix\n",
    "\n",
    "cf_matrix = confusion_matrix(y_true=y_test, y_pred=y_pred_nb)\n",
    "#cf_matrix=confusion_matrix(y_test,y_pred, labels=['0','1'])\n",
    "#cf_matrix = confusion_matrix(y, y_pred)\n",
    "#print(cf_matrix)\n",
    "#sns.heatmap(cf_matrix, annot=True)\n",
    "sns.heatmap(cf_matrix/np.sum(cf_matrix), annot=True, fmt='.2%')\n",
    "a_nb = accuracy_score(y_pred_nb,y_test) \n",
    "p_nb= precision_score(y_test, y_pred_nb, average = 'weighted')\n",
    "r_nb = recall_score(y_test, y_pred_nb, average = 'weighted')\n",
    "print(\"Accuracy:\",round(a_nb*100,2),\"%\")\n",
    "print(\"Precision:\",round(p_nb*100,2),\"%\")\n",
    "print(\"Recall:\",round(r_nb*100,2),\"%\")\n",
    "f1_nb = f1_score(y_test, y_pred_nb)\n",
    "print(\"f1_score:\",round(f1_nb*100,2),\"%\")\n",
    "Training_accuracy_nb=accuracy_score(y_train, nb.predict(x_train))\n",
    "print(\"TrainingAccuracy:\",round(Training_accuracy_nb*100,2),\"%\")\n"
   ]
  },
  {
   "cell_type": "code",
   "execution_count": 16,
   "id": "3d635565",
   "metadata": {},
   "outputs": [
    {
     "name": "stdout",
     "output_type": "stream",
     "text": [
      "              precision    recall  f1-score   support\n",
      "\n",
      "           0       0.86      0.89      0.87       679\n",
      "           1       0.89      0.86      0.88       721\n",
      "\n",
      "    accuracy                           0.87      1400\n",
      "   macro avg       0.87      0.87      0.87      1400\n",
      "weighted avg       0.87      0.87      0.87      1400\n",
      "\n",
      "Accuracy: 87.36 %\n",
      "Precision: 87.4 %\n",
      "Recall: 87.36 %\n",
      "f1_score: 87.54 %\n",
      "TrainingAccuracy: 94.0 %\n"
     ]
    },
    {
     "data": {
      "image/png": "[encoded data removed]",
      "text/plain": [
       "<Figure size 640x480 with 2 Axes>"
      ]
     },
     "metadata": {},
     "output_type": "display_data"
    }
   ],
   "source": [
    "#LogisticRegression\n",
    "from sklearn.linear_model import LogisticRegression\n",
    "lr = LogisticRegression(solver='liblinear', random_state=0)\n",
    "lr.fit(x_train,y_train)\n",
    "y_pred_lr=lr.predict(x_test)\n",
    "accuracy_score(y_pred_lr,y_test)\n",
    "print(classification_report(y_pred_lr,y_test))\n",
    "cf_matrix = confusion_matrix(y_true=y_test, y_pred=y_pred_lr)\n",
    "\n",
    "#print(cf_matrix)\n",
    "#sns.heatmap(cf_matrix, annot=True)\n",
    "sns.heatmap(cf_matrix/np.sum(cf_matrix), annot=True, fmt='.2%')\n",
    "a_lr = accuracy_score(y_pred_lr,y_test) \n",
    "p_lr = precision_score(y_pred_lr,y_test, average = 'weighted')\n",
    "r_lr = recall_score(y_pred_lr,y_test, average = 'weighted')\n",
    "print(\"Accuracy:\",round(a_lr*100,2),\"%\")\n",
    "print(\"Precision:\",round(p_lr*100,2),\"%\")\n",
    "print(\"Recall:\",round(r_lr*100,2),\"%\")\n",
    "f1_lr = f1_score(y_test, y_pred_lr)\n",
    "print(\"f1_score:\",round(f1_lr*100,2),\"%\")\n",
    "Training_accuracy_lr=accuracy_score(y_train, lr.predict(x_train))\n",
    "print(\"TrainingAccuracy:\",round(Training_accuracy_lr*100,2),\"%\")\n"
   ]
  },
  {
   "cell_type": "code",
   "execution_count": 17,
   "id": "7a1db1c5",
   "metadata": {},
   "outputs": [
    {
     "name": "stdout",
     "output_type": "stream",
     "text": [
      "              precision    recall  f1-score   support\n",
      "\n",
      "           0       0.07      0.93      0.14        56\n",
      "           1       0.99      0.52      0.68      1344\n",
      "\n",
      "    accuracy                           0.53      1400\n",
      "   macro avg       0.53      0.72      0.41      1400\n",
      "weighted avg       0.96      0.53      0.66      1400\n",
      "\n",
      "Accuracy: 53.43 %\n",
      "Precision: 95.75 %\n",
      "Recall: 53.43 %\n",
      "f1_score: 68.1 %\n",
      "TrainingAccuracy: 55.5 %\n"
     ]
    },
    {
     "data": {
      "image/png": "[encoded data removed]",
      "text/plain": [
       "<Figure size 640x480 with 2 Axes>"
      ]
     },
     "metadata": {},
     "output_type": "display_data"
    }
   ],
   "source": [
    "#KNeighborsClassifier\n",
    "from sklearn.neighbors import KNeighborsClassifier\n",
    "from sklearn.metrics import classification_report\n",
    "from sklearn.metrics import accuracy_score, confusion_matrix, precision_score, recall_score,f1_score\n",
    "knn=KNeighborsClassifier(n_neighbors=7)\n",
    "#knn=KNeighborsClassifier(n_neighbors=1, weights='uniform', algorithm='auto', leaf_size=30, p=2,metric='minkowski', metric_params=None, n_jobs=None)\n",
    "knn.fit(x_train,y_train)\n",
    "y_pred_knn=knn.predict(x_test)\n",
    "#y_pred_knn\n",
    "\n",
    "accuracy_score(y_pred_knn,y_test)\n",
    "print(classification_report(y_pred_knn,y_test))\n",
    "#Build confusion matrix\n",
    "# Calculate the confusion matrix\n",
    "\n",
    "cf_matrix = confusion_matrix(y_true=y_test, y_pred=y_pred_knn)\n",
    "\n",
    "#print(cf_matrix)\n",
    "#sns.heatmap(cf_matrix, annot=True)\n",
    "sns.heatmap(cf_matrix/np.sum(cf_matrix), annot=True, fmt='.2%')\n",
    "a_knn = accuracy_score(y_pred_knn,y_test) \n",
    "p_knn = precision_score(y_pred_knn,y_test, average = 'weighted')\n",
    "r_knn = recall_score(y_pred_knn,y_test, average = 'weighted')\n",
    "print(\"Accuracy:\",round(a_knn*100,2),\"%\")\n",
    "print(\"Precision:\",round(p_knn*100,2),\"%\")\n",
    "print(\"Recall:\",round(r_knn*100,2),\"%\")\n",
    "f1_knn = f1_score(y_test, y_pred_knn)\n",
    "print(\"f1_score:\",round(f1_knn*100,2),\"%\")\n",
    "Training_accuracy_knn=accuracy_score(y_train, knn.predict(x_train))\n",
    "print(\"TrainingAccuracy:\",round(Training_accuracy_knn*100,2),\"%\")\n"
   ]
  },
  {
   "cell_type": "code",
   "execution_count": 18,
   "id": "632c31be",
   "metadata": {},
   "outputs": [
    {
     "name": "stdout",
     "output_type": "stream",
     "text": [
      "RandomForestClassifier\n",
      "              precision    recall  f1-score   support\n",
      "\n",
      "           0       0.90      0.90      0.90       701\n",
      "           1       0.90      0.90      0.90       699\n",
      "\n",
      "    accuracy                           0.90      1400\n",
      "   macro avg       0.90      0.90      0.90      1400\n",
      "weighted avg       0.90      0.90      0.90      1400\n",
      "\n",
      "Accuracy: 89.64 %\n",
      "Precision: 89.64 %\n",
      "Recall: 89.64 %\n",
      "f1_score: 89.64 %\n",
      "TrainingAccuracy: 98.79 %\n"
     ]
    },
    {
     "data": {
      "image/png": "[encoded data removed]",
      "text/plain": [
       "<Figure size 640x480 with 2 Axes>"
      ]
     },
     "metadata": {},
     "output_type": "display_data"
    }
   ],
   "source": [
    "#RandomForestClassifier\n",
    "print(\"RandomForestClassifier\")\n",
    "\n",
    "from sklearn.ensemble import RandomForestClassifier\n",
    "#model_rf=RandomForestClassifier()\n",
    "model_rf=RandomForestClassifier(n_estimators=100, criterion='gini', max_depth=None, \n",
    "min_samples_split=12, min_samples_leaf=5, min_weight_fraction_leaf=0.0, max_features='log2',\n",
    "max_leaf_nodes=None, min_impurity_decrease=0.0, bootstrap=True, oob_score=False, n_jobs=None,   random_state=None, verbose=0, warm_start=False, class_weight=None, ccp_alpha=0.0, max_samples=None)\n",
    "\n",
    "model_rf.fit(x_train,y_train)\n",
    "y_pred_rf=model_rf.predict(x_test)\n",
    "y_pred_rf\n",
    "acc_rf=accuracy_score(y_pred_rf,y_test)\n",
    "print(classification_report(y_pred_rf,y_test))\n",
    "\n",
    "cf_matrix = confusion_matrix(y_true=y_test, y_pred=y_pred_rf)\n",
    "\n",
    "#print(cf_matrix)\n",
    "#sns.heatmap(cf_matrix, annot=True)\n",
    "sns.heatmap(cf_matrix/np.sum(cf_matrix), annot=True, fmt='.2%')\n",
    "a_rf = accuracy_score(y_pred_rf,y_test) \n",
    "p_rf = precision_score(y_pred_rf,y_test, average = 'weighted')\n",
    "r_rf = recall_score(y_pred_rf,y_test, average = 'weighted')\n",
    "print(\"Accuracy:\",round(a_rf*100,2),\"%\")\n",
    "print(\"Precision:\",round(p_rf*100,2),\"%\")\n",
    "print(\"Recall:\",round(r_rf*100,2),\"%\")\n",
    "f1_rf = f1_score(y_test, y_pred_rf)\n",
    "print(\"f1_score:\",round(f1_rf*100,2),\"%\")\n",
    "Training_accuracy_rf=accuracy_score(y_train, model_rf.predict(x_train))\n",
    "print(\"TrainingAccuracy:\",round(Training_accuracy_rf*100,2),\"%\")\n",
    "\n",
    "\n"
   ]
  },
  {
   "cell_type": "code",
   "execution_count": 19,
   "id": "28bd1701",
   "metadata": {},
   "outputs": [
    {
     "name": "stdout",
     "output_type": "stream",
     "text": [
      "Accuracy of voting_3_classifiers =  82.71428571428572\n",
      "Accuracy: 82.71 %\n",
      "Precision: 84.38 %\n",
      "Recall: 82.71 %\n",
      "f1_score: 82.5 %\n",
      "TrainingAccuracy: 91.27 %\n"
     ]
    }
   ],
   "source": [
    "from sklearn.ensemble import VotingClassifier\n",
    "from sklearn.tree import DecisionTreeClassifier\n",
    "from sklearn.metrics import accuracy_score, confusion_matrix, precision_score, recall_score\n",
    "from sklearn.metrics import mean_squared_error\n",
    "from sklearn.metrics import confusion_matrix, ConfusionMatrixDisplay\n",
    "\n",
    "voting_3_classifiers = VotingClassifier(estimators=[('GaussianNB', nb),('Decison Tree',dtc),\n",
    "                                                    ('KNN',knn),('logistic_regression',lr)], \n",
    "                                        voting='soft')\n",
    "voting_3_classifiers.fit(x_train,y_train)\n",
    "voting_predictions_soft = voting_3_classifiers.predict(x_test)\n",
    "print('Accuracy of voting_3_classifiers = ', accuracy_score(y_test, voting_predictions_soft)*100)\n",
    "a_voting_soft = accuracy_score(y_test, voting_predictions_soft)\n",
    "p_voting_soft = precision_score(y_test, voting_predictions_soft, average = 'weighted')\n",
    "r_voting_soft = recall_score(y_test, voting_predictions_soft, average = 'weighted')\n",
    "print(\"Accuracy:\",round(a_voting_soft*100,2),\"%\")\n",
    "print(\"Precision:\",round(p_voting_soft*100,2),\"%\")\n",
    "print(\"Recall:\",round(r_voting_soft*100,2),\"%\")\n",
    "f1_voting_soft = f1_score(y_test, voting_predictions_soft,average='weighted')\n",
    "print(\"f1_score:\",round(f1_voting_soft*100,2),\"%\")\n",
    "Training_accuracy_soft=accuracy_score(y_train, voting_3_classifiers.predict(x_train))\n",
    "print(\"TrainingAccuracy:\",round(Training_accuracy_soft*100,2),\"%\")\n",
    "\n"
   ]
  },
  {
   "cell_type": "code",
   "execution_count": 20,
   "id": "1d5ecade",
   "metadata": {},
   "outputs": [
    {
     "name": "stdout",
     "output_type": "stream",
     "text": [
      "Accuracy of voting_3_classifiers =  87.64285714285714\n",
      "Accuracy: 87.64 %\n",
      "Precision: 87.7 %\n",
      "Recall: 87.64 %\n",
      "f1_score: 87.88 %\n",
      "TrainingAccuracy: 87.64 %\n",
      "[[600 100]\n",
      " [ 73 627]]\n"
     ]
    },
    {
     "data": {
      "text/plain": [
       "<Axes: >"
      ]
     },
     "execution_count": 20,
     "metadata": {},
     "output_type": "execute_result"
    },
    {
     "data": {
      "image/png": "[encoded data removed]",
      "text/plain": [
       "<Figure size 640x480 with 2 Axes>"
      ]
     },
     "metadata": {},
     "output_type": "display_data"
    }
   ],
   "source": [
    "from sklearn.ensemble import VotingClassifier\n",
    "from sklearn.tree import DecisionTreeClassifier\n",
    "from sklearn.metrics import accuracy_score, confusion_matrix, precision_score, recall_score\n",
    "from sklearn.metrics import mean_squared_error\n",
    "from sklearn.metrics import confusion_matrix, ConfusionMatrixDisplay\n",
    "\n",
    "voting_3_classifiers = VotingClassifier(estimators=[ ('GaussianNB', nb),('Decison Tree',dtc),\n",
    "                                                    ('KNN',knn),('logistic_regression',lr)], \n",
    "                                        voting='hard')\n",
    "voting_3_classifiers.fit(x_train,y_train)\n",
    "voting_predictions_hard = voting_3_classifiers.predict(x_test)\n",
    "print('Accuracy of voting_3_classifiers = ', accuracy_score(y_test, voting_predictions_hard)*100)\n",
    "a_voting_hard = accuracy_score(y_test, voting_predictions_hard)\n",
    "p_voting_hard = precision_score(y_test, voting_predictions_hard, average = 'weighted')\n",
    "r_voting_hard = recall_score(y_test, voting_predictions_hard, average = 'weighted')\n",
    "print(\"Accuracy:\",round(a_voting_hard*100,2),\"%\")\n",
    "print(\"Precision:\",round(p_voting_hard*100,2),\"%\")\n",
    "print(\"Recall:\",round(r_voting_hard*100,2),\"%\")\n",
    "f1_voting_hard = f1_score(y_test, voting_predictions_hard)\n",
    "print(\"f1_score:\",round(f1_voting_hard*100,2),\"%\")\n",
    "Training_accuracy_voting_3_classifiers=accuracy_score(y_test, voting_3_classifiers.predict(x_test))\n",
    "print(\"TrainingAccuracy:\",round(Training_accuracy_voting_3_classifiers*100,2),\"%\")\n",
    "#Build confusion matrix\n",
    "# Calculate the confusion matrix\n",
    "\n",
    "cf_matrix = confusion_matrix(y_true=y_test, y_pred=voting_predictions_hard)\n",
    "#cf_matrix=confusion_matrix(y_test,y_pred, labels=['0','1'])\n",
    "#cf_matrix = confusion_matrix(y, y_pred)\n",
    "print(cf_matrix)\n",
    "#sns.heatmap(cf_matrix, annot=True)\n",
    "sns.heatmap(cf_matrix/np.sum(cf_matrix), annot=True, fmt='.2%')\n"
   ]
  },
  {
   "cell_type": "code",
   "execution_count": 21,
   "id": "98d2ccd2",
   "metadata": {},
   "outputs": [
    {
     "ename": "FileNotFoundError",
     "evalue": "No such file: 'C:\\Users\\vivek\\project\\root\\Augmentation\\dataset\\Diseased Augmented\\a0_TR011585-1.jpg'",
     "output_type": "error",
     "traceback": [
      "\u001b[1;31m---------------------------------------------------------------------------\u001b[0m",
      "\u001b[1;31mFileNotFoundError\u001b[0m                         Traceback (most recent call last)",
      "Cell \u001b[1;32mIn[21], line 6\u001b[0m\n\u001b[0;32m      1\u001b[0m \u001b[38;5;66;03m#############################prediction############################\u001b[39;00m\n\u001b[0;32m      2\u001b[0m \u001b[38;5;66;03m#url=input('Enter URL of Image :')\u001b[39;00m\n\u001b[0;32m      3\u001b[0m \u001b[38;5;66;03m#img=imread(\"D:/SIoT/dataset/Augmented_DataSet/AugmentedSet_320px/trail_dataset_ac_healthy/Healthy_Copy/IMG_20220526_120225.jpg\")\u001b[39;00m\n\u001b[0;32m      4\u001b[0m \u001b[38;5;66;03m#img=imread(\"D:/SIoT/dataset/Augmented_DataSet/AugmentedSet_320px/trail_dataset_ac_healthy/Healthy_Copy/IMG_20220526_120225.jpg\")\u001b[39;00m\n\u001b[1;32m----> 6\u001b[0m img\u001b[38;5;241m=\u001b[39m\u001b[43mimread\u001b[49m\u001b[43m(\u001b[49m\u001b[38;5;124;43mr\u001b[39;49m\u001b[38;5;124;43m\"\u001b[39;49m\u001b[38;5;124;43mC:/Users/vivek/project/root/Augmentation/dataset/Diseased Augmented/a0_TR011585-1.jpg\u001b[39;49m\u001b[38;5;124;43m\"\u001b[39;49m\u001b[43m)\u001b[49m\n\u001b[0;32m      7\u001b[0m plt\u001b[38;5;241m.\u001b[39mimshow(img)\n\u001b[0;32m      8\u001b[0m plt\u001b[38;5;241m.\u001b[39maxis(\u001b[38;5;124m'\u001b[39m\u001b[38;5;124moff\u001b[39m\u001b[38;5;124m'\u001b[39m)\n",
      "File \u001b[1;32m~\\anaconda3\\New folder\\envs\\notebook\\lib\\site-packages\\skimage\\io\\_io.py:53\u001b[0m, in \u001b[0;36mimread\u001b[1;34m(fname, as_gray, plugin, **plugin_args)\u001b[0m\n\u001b[0;32m     50\u001b[0m         plugin \u001b[38;5;241m=\u001b[39m \u001b[38;5;124m'\u001b[39m\u001b[38;5;124mtifffile\u001b[39m\u001b[38;5;124m'\u001b[39m\n\u001b[0;32m     52\u001b[0m \u001b[38;5;28;01mwith\u001b[39;00m file_or_url_context(fname) \u001b[38;5;28;01mas\u001b[39;00m fname:\n\u001b[1;32m---> 53\u001b[0m     img \u001b[38;5;241m=\u001b[39m call_plugin(\u001b[38;5;124m'\u001b[39m\u001b[38;5;124mimread\u001b[39m\u001b[38;5;124m'\u001b[39m, fname, plugin\u001b[38;5;241m=\u001b[39mplugin, \u001b[38;5;241m*\u001b[39m\u001b[38;5;241m*\u001b[39mplugin_args)\n\u001b[0;32m     55\u001b[0m \u001b[38;5;28;01mif\u001b[39;00m \u001b[38;5;129;01mnot\u001b[39;00m \u001b[38;5;28mhasattr\u001b[39m(img, \u001b[38;5;124m'\u001b[39m\u001b[38;5;124mndim\u001b[39m\u001b[38;5;124m'\u001b[39m):\n\u001b[0;32m     56\u001b[0m     \u001b[38;5;28;01mreturn\u001b[39;00m img\n",
      "File \u001b[1;32m~\\anaconda3\\New folder\\envs\\notebook\\lib\\site-packages\\skimage\\io\\manage_plugins.py:205\u001b[0m, in \u001b[0;36mcall_plugin\u001b[1;34m(kind, *args, **kwargs)\u001b[0m\n\u001b[0;32m    202\u001b[0m     \u001b[38;5;28;01mexcept\u001b[39;00m \u001b[38;5;167;01mIndexError\u001b[39;00m:\n\u001b[0;32m    203\u001b[0m         \u001b[38;5;28;01mraise\u001b[39;00m \u001b[38;5;167;01mRuntimeError\u001b[39;00m(\u001b[38;5;124mf\u001b[39m\u001b[38;5;124m'\u001b[39m\u001b[38;5;124mCould not find the plugin \u001b[39m\u001b[38;5;124m\"\u001b[39m\u001b[38;5;132;01m{\u001b[39;00mplugin\u001b[38;5;132;01m}\u001b[39;00m\u001b[38;5;124m\"\u001b[39m\u001b[38;5;124m for \u001b[39m\u001b[38;5;132;01m{\u001b[39;00mkind\u001b[38;5;132;01m}\u001b[39;00m\u001b[38;5;124m.\u001b[39m\u001b[38;5;124m'\u001b[39m)\n\u001b[1;32m--> 205\u001b[0m \u001b[38;5;28;01mreturn\u001b[39;00m func(\u001b[38;5;241m*\u001b[39margs, \u001b[38;5;241m*\u001b[39m\u001b[38;5;241m*\u001b[39mkwargs)\n",
      "File \u001b[1;32m~\\anaconda3\\New folder\\envs\\notebook\\lib\\site-packages\\skimage\\io\\_plugins\\imageio_plugin.py:11\u001b[0m, in \u001b[0;36mimread\u001b[1;34m(*args, **kwargs)\u001b[0m\n\u001b[0;32m      9\u001b[0m \u001b[38;5;129m@wraps\u001b[39m(imageio_imread)\n\u001b[0;32m     10\u001b[0m \u001b[38;5;28;01mdef\u001b[39;00m \u001b[38;5;21mimread\u001b[39m(\u001b[38;5;241m*\u001b[39margs, \u001b[38;5;241m*\u001b[39m\u001b[38;5;241m*\u001b[39mkwargs):\n\u001b[1;32m---> 11\u001b[0m     out \u001b[38;5;241m=\u001b[39m np\u001b[38;5;241m.\u001b[39masarray(imageio_imread(\u001b[38;5;241m*\u001b[39margs, \u001b[38;5;241m*\u001b[39m\u001b[38;5;241m*\u001b[39mkwargs))\n\u001b[0;32m     12\u001b[0m     \u001b[38;5;28;01mif\u001b[39;00m \u001b[38;5;129;01mnot\u001b[39;00m out\u001b[38;5;241m.\u001b[39mflags[\u001b[38;5;124m'\u001b[39m\u001b[38;5;124mWRITEABLE\u001b[39m\u001b[38;5;124m'\u001b[39m]:\n\u001b[0;32m     13\u001b[0m         out \u001b[38;5;241m=\u001b[39m out\u001b[38;5;241m.\u001b[39mcopy()\n",
      "File \u001b[1;32m~\\anaconda3\\New folder\\envs\\notebook\\lib\\site-packages\\imageio\\v3.py:53\u001b[0m, in \u001b[0;36mimread\u001b[1;34m(uri, index, plugin, extension, format_hint, **kwargs)\u001b[0m\n\u001b[0;32m     50\u001b[0m \u001b[38;5;28;01mif\u001b[39;00m index \u001b[38;5;129;01mis\u001b[39;00m \u001b[38;5;129;01mnot\u001b[39;00m \u001b[38;5;28;01mNone\u001b[39;00m:\n\u001b[0;32m     51\u001b[0m     call_kwargs[\u001b[38;5;124m\"\u001b[39m\u001b[38;5;124mindex\u001b[39m\u001b[38;5;124m\"\u001b[39m] \u001b[38;5;241m=\u001b[39m index\n\u001b[1;32m---> 53\u001b[0m \u001b[38;5;28;01mwith\u001b[39;00m imopen(uri, \u001b[38;5;124m\"\u001b[39m\u001b[38;5;124mr\u001b[39m\u001b[38;5;124m\"\u001b[39m, \u001b[38;5;241m*\u001b[39m\u001b[38;5;241m*\u001b[39mplugin_kwargs) \u001b[38;5;28;01mas\u001b[39;00m img_file:\n\u001b[0;32m     54\u001b[0m     \u001b[38;5;28;01mreturn\u001b[39;00m np\u001b[38;5;241m.\u001b[39masarray(img_file\u001b[38;5;241m.\u001b[39mread(\u001b[38;5;241m*\u001b[39m\u001b[38;5;241m*\u001b[39mcall_kwargs))\n",
      "File \u001b[1;32m~\\anaconda3\\New folder\\envs\\notebook\\lib\\site-packages\\imageio\\core\\imopen.py:113\u001b[0m, in \u001b[0;36mimopen\u001b[1;34m(uri, io_mode, plugin, extension, format_hint, legacy_mode, **kwargs)\u001b[0m\n\u001b[0;32m    111\u001b[0m     request\u001b[38;5;241m.\u001b[39mformat_hint \u001b[38;5;241m=\u001b[39m format_hint\n\u001b[0;32m    112\u001b[0m \u001b[38;5;28;01melse\u001b[39;00m:\n\u001b[1;32m--> 113\u001b[0m     request \u001b[38;5;241m=\u001b[39m \u001b[43mRequest\u001b[49m\u001b[43m(\u001b[49m\u001b[43muri\u001b[49m\u001b[43m,\u001b[49m\u001b[43m \u001b[49m\u001b[43mio_mode\u001b[49m\u001b[43m,\u001b[49m\u001b[43m \u001b[49m\u001b[43mformat_hint\u001b[49m\u001b[38;5;241;43m=\u001b[39;49m\u001b[43mformat_hint\u001b[49m\u001b[43m,\u001b[49m\u001b[43m \u001b[49m\u001b[43mextension\u001b[49m\u001b[38;5;241;43m=\u001b[39;49m\u001b[43mextension\u001b[49m\u001b[43m)\u001b[49m\n\u001b[0;32m    115\u001b[0m source \u001b[38;5;241m=\u001b[39m \u001b[38;5;124m\"\u001b[39m\u001b[38;5;124m<bytes>\u001b[39m\u001b[38;5;124m\"\u001b[39m \u001b[38;5;28;01mif\u001b[39;00m \u001b[38;5;28misinstance\u001b[39m(uri, \u001b[38;5;28mbytes\u001b[39m) \u001b[38;5;28;01melse\u001b[39;00m uri\n\u001b[0;32m    117\u001b[0m \u001b[38;5;66;03m# fast-path based on plugin\u001b[39;00m\n\u001b[0;32m    118\u001b[0m \u001b[38;5;66;03m# (except in legacy mode)\u001b[39;00m\n",
      "File \u001b[1;32m~\\anaconda3\\New folder\\envs\\notebook\\lib\\site-packages\\imageio\\core\\request.py:247\u001b[0m, in \u001b[0;36mRequest.__init__\u001b[1;34m(self, uri, mode, extension, format_hint, **kwargs)\u001b[0m\n\u001b[0;32m    244\u001b[0m     \u001b[38;5;28;01mraise\u001b[39;00m \u001b[38;5;167;01mValueError\u001b[39;00m(\u001b[38;5;124mf\u001b[39m\u001b[38;5;124m\"\u001b[39m\u001b[38;5;124mInvalid Request.Mode: \u001b[39m\u001b[38;5;132;01m{\u001b[39;00mmode\u001b[38;5;132;01m}\u001b[39;00m\u001b[38;5;124m\"\u001b[39m)\n\u001b[0;32m    246\u001b[0m \u001b[38;5;66;03m# Parse what was given\u001b[39;00m\n\u001b[1;32m--> 247\u001b[0m \u001b[38;5;28;43mself\u001b[39;49m\u001b[38;5;241;43m.\u001b[39;49m\u001b[43m_parse_uri\u001b[49m\u001b[43m(\u001b[49m\u001b[43muri\u001b[49m\u001b[43m)\u001b[49m\n\u001b[0;32m    249\u001b[0m \u001b[38;5;66;03m# Set extension\u001b[39;00m\n\u001b[0;32m    250\u001b[0m \u001b[38;5;28;01mif\u001b[39;00m extension \u001b[38;5;129;01mis\u001b[39;00m \u001b[38;5;129;01mnot\u001b[39;00m \u001b[38;5;28;01mNone\u001b[39;00m:\n",
      "File \u001b[1;32m~\\anaconda3\\New folder\\envs\\notebook\\lib\\site-packages\\imageio\\core\\request.py:407\u001b[0m, in \u001b[0;36mRequest._parse_uri\u001b[1;34m(self, uri)\u001b[0m\n\u001b[0;32m    404\u001b[0m \u001b[38;5;28;01mif\u001b[39;00m is_read_request:\n\u001b[0;32m    405\u001b[0m     \u001b[38;5;66;03m# Reading: check that the file exists (but is allowed a dir)\u001b[39;00m\n\u001b[0;32m    406\u001b[0m     \u001b[38;5;28;01mif\u001b[39;00m \u001b[38;5;129;01mnot\u001b[39;00m os\u001b[38;5;241m.\u001b[39mpath\u001b[38;5;241m.\u001b[39mexists(fn):\n\u001b[1;32m--> 407\u001b[0m         \u001b[38;5;28;01mraise\u001b[39;00m \u001b[38;5;167;01mFileNotFoundError\u001b[39;00m(\u001b[38;5;124m\"\u001b[39m\u001b[38;5;124mNo such file: \u001b[39m\u001b[38;5;124m'\u001b[39m\u001b[38;5;132;01m%s\u001b[39;00m\u001b[38;5;124m'\u001b[39m\u001b[38;5;124m\"\u001b[39m \u001b[38;5;241m%\u001b[39m fn)\n\u001b[0;32m    408\u001b[0m \u001b[38;5;28;01melse\u001b[39;00m:\n\u001b[0;32m    409\u001b[0m     \u001b[38;5;66;03m# Writing: check that the directory to write to does exist\u001b[39;00m\n\u001b[0;32m    410\u001b[0m     dn \u001b[38;5;241m=\u001b[39m os\u001b[38;5;241m.\u001b[39mpath\u001b[38;5;241m.\u001b[39mdirname(fn)\n",
      "\u001b[1;31mFileNotFoundError\u001b[0m: No such file: 'C:\\Users\\vivek\\project\\root\\Augmentation\\dataset\\Diseased Augmented\\a0_TR011585-1.jpg'"
     ]
    }
   ],
   "source": [
    "#############################prediction############################\n",
    "#url=input('Enter URL of Image :')\n",
    "#img=imread(\"D:/SIoT/dataset/Augmented_DataSet/AugmentedSet_320px/trail_dataset_ac_healthy/Healthy_Copy/IMG_20220526_120225.jpg\")\n",
    "#img=imread(\"D:/SIoT/dataset/Augmented_DataSet/AugmentedSet_320px/trail_dataset_ac_healthy/Healthy_Copy/IMG_20220526_120225.jpg\")\n",
    "\n",
    "img=imread(r\"C:/Users/vivek/project/root/Augmentation/dataset/Diseased Augmented/a0_TR011585-1.jpg\")\n",
    "plt.imshow(img)\n",
    "plt.axis('off')\n",
    "plt.show()\n",
    "\n",
    "#img_gray = cv2.cvtColor(img, cv2.COLOR_BGR2GRAY) \n",
    "#img_gray=cv2.cvtColor(img,cv2.COLOR_BGR2RGB)\n",
    "img_gray = cv2.cvtColor(img, cv2.COLOR_BGR2GRAY)\n",
    "\n",
    "vectorized = img_gray.reshape((1,-1))\n",
    "vectorized = np.float32(vectorized)\n",
    "#let’s define k, attempts, and criteria as required by K-Means as a parameter\n",
    "criteria = (cv2.TERM_CRITERIA_EPS + cv2.TERM_CRITERIA_MAX_ITER, 10, 1.0)\n",
    "K = 9\n",
    "attempts=10\n",
    "ret,label,center=cv2.kmeans(vectorized,K,None,criteria,attempts,cv2.KMEANS_PP_CENTERS)\n",
    "\n",
    "center=np.uint8(center)\n",
    "res = center[label.flatten()]\n",
    "result_image = res.reshape((img_gray.shape))\n",
    "img_resize=resize(result_image,(64,64))  \n",
    "\n",
    "plt.imshow(result_image)\n",
    "plt.axis('off')\n",
    "plt.show()       \n",
    "\n",
    "flat_data_arr.append(img_resize.flatten())\n",
    "#edge_image = sobel(img_resize) # apply the filter\n",
    "l=[img_resize.flatten()]\n",
    "#print(len(l))\n",
    "\n",
    "probability_lr=lr.predict_proba(l)\n",
    "for ind,val in enumerate(Categories):\n",
    "    print(ind,val)\n",
    "    print(f'{val} = {probability_lr[0][ind]*100}%')\n",
    "print(\"The predicted image is : \"+Categories[lr.predict(l)[0]])\n",
    "\n"
   ]
  },
  {
   "cell_type": "code",
   "execution_count": null,
   "id": "41a2637a",
   "metadata": {},
   "outputs": [],
   "source": [
    "import numpy as np\n",
    "import matplotlib.pyplot as plt\n",
    " \n",
    "# set width of bar\n",
    "barWidth = 0.15\n",
    "fig = plt.subplots(figsize =(30, 15))\n",
    " \n",
    "# set height of bar\n",
    "Accuracy = [a_rf*100, a_dtc*100, a_nb*100, a_knn*100, a_lr*100, a_voting_soft*100, a_voting_hard*100]\n",
    "Precision = [p_rf*100, p_dtc*100, p_nb*100, p_knn*100, p_lr*100, p_voting_soft*100, p_voting_hard*100]\n",
    "Recall = [r_rf*100, r_dtc*100, r_nb*100, r_knn*100, r_lr*100, r_voting_soft*100, r_voting_hard*100]\n",
    "f1_score = [f1_rf*100, f1_dtc*100, f1_nb*100, f1_knn*100, f1_lr*100, f1_voting_soft*100, f1_voting_hard*100]\n",
    " \n",
    "# Set position of bar on X axis\n",
    "br1 = np.arange(len(Accuracy))\n",
    "br2 = [x + barWidth for x in br1]\n",
    "br3 = [x + barWidth for x in br2]\n",
    "br4 = [x + barWidth for x in br3]\n",
    " \n",
    "# Make the plot\n",
    "plt.bar(br1, Accuracy, color ='r', width = barWidth,\n",
    "        edgecolor ='grey', label ='Accuracy')\n",
    "plt.bar(br2, Precision, color ='g', width = barWidth,\n",
    "        edgecolor ='grey', label ='Precision')\n",
    "plt.bar(br3, Recall, color ='b', width = barWidth,\n",
    "        edgecolor ='grey', label ='Recall')\n",
    "plt.bar(br4, f1_score, color ='c', width = barWidth,\n",
    "        edgecolor ='grey', label ='f1_score')\n",
    " \n",
    "# Adding Xticks\n",
    "plt.xlabel('Classifier', fontweight ='bold', fontsize = 15)\n",
    "plt.ylabel('Values %', fontweight ='bold', fontsize = 15)\n",
    "plt.xticks([r + barWidth for r in range(len(Accuracy))],\n",
    "        ['RandomForest', 'DecisionTree', 'GaussianNB', 'KNeighbors', 'LogisticRegression', 'SoftVoting', 'HardVoting'])\n",
    " \n",
    "plt.legend()\n",
    "plt.show()"
   ]
  },
  {
   "cell_type": "code",
   "execution_count": null,
   "id": "cff36d92",
   "metadata": {},
   "outputs": [],
   "source": []
  },
  {
   "cell_type": "code",
   "execution_count": null,
   "id": "448a78f2",
   "metadata": {},
   "outputs": [],
   "source": []
  },
  {
   "cell_type": "code",
   "execution_count": null,
   "id": "68187135",
   "metadata": {},
   "outputs": [],
   "source": []
  }
 ],
 "metadata": {
  "kernelspec": {
   "display_name": "Python 3 (ipykernel)",
   "language": "python",
   "name": "python3"
  },
  "language_info": {
   "codemirror_mode": {
    "name": "ipython",
    "version": 3
   },
   "file_extension": ".py",
   "mimetype": "text/x-python",
   "name": "python",
   "nbconvert_exporter": "python",
   "pygments_lexer": "ipython3",
   "version": "3.9.16"
  }
 },
 "nbformat": 4,
 "nbformat_minor": 5
}
