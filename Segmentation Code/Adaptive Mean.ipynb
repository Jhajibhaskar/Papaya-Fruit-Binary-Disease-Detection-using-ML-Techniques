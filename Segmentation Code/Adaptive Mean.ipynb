{
 "cells": [
  {
   "cell_type": "code",
   "execution_count": 60,
   "id": "b5b46380",
   "metadata": {},
   "outputs": [],
   "source": [
    "import pandas as pd\n",
    "import os\n",
    "from skimage.transform import resize\n",
    "from skimage.io import imread\n",
    "import numpy as np"
   ]
  },
  {
   "cell_type": "code",
   "execution_count": 61,
   "id": "3bc0602a",
   "metadata": {},
   "outputs": [],
   "source": [
    "\n",
    "import matplotlib.pyplot as plt\n",
    "from sklearn.model_selection import GridSearchCV\n",
    "from skimage.filters import sobel\n",
    "from sklearn.metrics import confusion_matrix, ConfusionMatrixDisplay\n",
    "import seaborn as sns\n",
    "from sklearn.metrics import accuracy_score, confusion_matrix, precision_score, recall_score,f1_score\n",
    "from sklearn.metrics import mean_squared_error\n",
    "from sklearn.decomposition import PCA\n",
    "from sklearn.preprocessing import StandardScaler\n",
    "from sklearn.model_selection import train_test_split\n",
    "import cv2\n",
    "from sklearn.metrics import accuracy_score\n",
    "from sklearn.metrics import classification_report\n",
    "from sklearn.metrics import accuracy_score, confusion_matrix, precision_score, recall_score,f1_score"
   ]
  },
  {
   "cell_type": "code",
   "execution_count": 62,
   "id": "4dc90ed3",
   "metadata": {},
   "outputs": [
    {
     "name": "stdout",
     "output_type": "stream",
     "text": [
      "loading... category : Diseased\n",
      "loaded category:Diseased successfully\n",
      "loading... category : Healthy\n",
      "loaded category:Healthy successfully\n",
      "x: (7000, 4096)\n",
      "y: (7000,)\n",
      "Splitted Successfully\n"
     ]
    }
   ],
   "source": [
    "Categories=['Diseased','Healthy']\n",
    "flat_data_arr=[] #input array\n",
    "target_arr=[] #output array\n",
    "datadir='C:\\\\Users\\\\vivek\\\\project\\\\root\\\\Augmentation\\\\dataset' \n",
    "#datadir='D:/SIoT/dataset/Augmented_DataSet/AugmentedSet_320px/trail_dataset_ac_healthy_copy/' \n",
    "#datadir='D:/SIoT/dataset/Augmented_DataSet/AugmentedSet_320px/trail_dataset_ac_healthy_pddb/'\n",
    "#path which contains all the categories of images\n",
    "for i in Categories:\n",
    "    \n",
    "    print(f'loading... category : {i}')\n",
    "    path=os.path.join(datadir,i)\n",
    "    for img in os.listdir(path):\n",
    "        img_array=imread(os.path.join(path,img))\n",
    "        img_gray = cv2.cvtColor(img_array, cv2.COLOR_BGR2GRAY) \n",
    "        img_gray = cv2.GaussianBlur(img_gray, (7, 7), 0) \n",
    "        adaptive_mean = cv2.adaptiveThreshold(img_gray,255,cv2.ADAPTIVE_THRESH_MEAN_C,cv2.THRESH_BINARY,5,5)       \n",
    "        img_resize=resize(adaptive_mean,(64,64))\n",
    "        flat_data_arr.append(img_resize.flatten())\n",
    "        target_arr.append(Categories.index(i))\n",
    "    print(f'loaded category:{i} successfully')\n",
    "flat_data=np.array(flat_data_arr)\n",
    "target=np.array(target_arr)\n",
    " \n",
    "df=pd.DataFrame(flat_data) #dataframe\n",
    "df['Target']=target\n",
    "x=df.iloc[:,:-1] #input data \n",
    "y=df.iloc[:,-1] #output data\n",
    "\n",
    "\n",
    "#x_train,x_test,y_train,y_test=train_test_split(x,y,test_size=0.20,random_state=77,stratify=y)\n",
    "\n",
    "print(\"x:\",x.shape)\n",
    "print(\"y:\",y.shape)\n",
    "# print(\"result_image:\",result_image.shape)\n",
    "\n",
    "# print(\"flatdata:\",flat_data.shape)\n",
    "x_train,x_test,y_train,y_test=train_test_split(x,y,test_size=.20,random_state=77,stratify=y)\n",
    "print('Splitted Successfully')"
   ]
  },
  {
   "cell_type": "code",
   "execution_count": 63,
   "id": "aa24ddf5",
   "metadata": {},
   "outputs": [
    {
     "name": "stdout",
     "output_type": "stream",
     "text": [
      "The model is 81.57142857142857% accurate\n",
      "              precision    recall  f1-score   support\n",
      "\n",
      "           0       0.81      0.82      0.82       696\n",
      "           1       0.82      0.81      0.82       704\n",
      "\n",
      "    accuracy                           0.82      1400\n",
      "   macro avg       0.82      0.82      0.82      1400\n",
      "weighted avg       0.82      0.82      0.82      1400\n",
      "\n",
      "Accuracy: 81.57 %\n",
      "Precision: 81.57 %\n",
      "Recall: 81.57 %\n",
      "f1_score: 81.62 %\n",
      "TrainingAccuracy: 99.21 %\n"
     ]
    },
    {
     "data": {
      "image/png": "[encoded data removed]",
      "text/plain": [
       "<Figure size 640x480 with 2 Axes>"
      ]
     },
     "metadata": {},
     "output_type": "display_data"
    }
   ],
   "source": [
    "#DecisionTreeClassifier\n",
    "from sklearn.model_selection import train_test_split\n",
    "from sklearn.tree import DecisionTreeClassifier\n",
    "\n",
    "\n",
    "\n",
    "dtc=DecisionTreeClassifier(criterion='gini', splitter='best', max_depth=25, min_samples_split=2, min_samples_leaf=1,   \n",
    "                           min_weight_fraction_leaf=0.0,max_features=None, random_state=None, \n",
    "                           max_leaf_nodes=None,  min_impurity_decrease=0.0, class_weight=None, ccp_alpha=0.0)\n",
    "dtc.fit(x_train,y_train)\n",
    "y_pred_dtc=dtc.predict(x_test)\n",
    "'''print(\"The predicted Data is :\")\n",
    "print(y_pred_dtc)\n",
    "print(\"The actual data is:\")\n",
    "print(np.array(y_test))'''\n",
    "print(f\"The model is {accuracy_score(y_pred_dtc,y_test)*100}% accurate\")\n",
    "\n",
    "\n",
    "accuracy_score(y_pred_dtc,y_test)\n",
    "print(classification_report(y_pred_dtc,y_test))\n",
    "#Build confusion matrix\n",
    "# Calculate the confusion matrix\n",
    "\n",
    "cf_matrix = confusion_matrix(y_true=y_test, y_pred=y_pred_dtc)\n",
    "\n",
    "#print(cf_matrix)\n",
    "#sns.heatmap(cf_matrix, annot=True)\n",
    "sns.heatmap(cf_matrix/np.sum(cf_matrix), annot=True, fmt='.2%')\n",
    "a_dtc = accuracy_score(y_pred_dtc,y_test) \n",
    "p_dtc = precision_score(y_pred_dtc,y_test, average = 'weighted')\n",
    "r_dtc = recall_score(y_pred_dtc,y_test, average = 'weighted')\n",
    "print(\"Accuracy:\",round(a_dtc*100,2),\"%\")\n",
    "print(\"Precision:\",round(p_dtc*100,2),\"%\")\n",
    "print(\"Recall:\",round(r_dtc*100,2),\"%\")\n",
    "f1_dtc = f1_score(y_test, y_pred_dtc)\n",
    "print(\"f1_score:\",round(f1_dtc*100,2),\"%\")\n",
    "Training_accuracy_dtc=accuracy_score(y_train, dtc.predict(x_train))\n",
    "print(\"TrainingAccuracy:\",round(Training_accuracy_dtc*100,2),\"%\")\n",
    "\n",
    "\n"
   ]
  },
  {
   "cell_type": "code",
   "execution_count": 64,
   "id": "b019c317",
   "metadata": {},
   "outputs": [
    {
     "name": "stdout",
     "output_type": "stream",
     "text": [
      "The the NB model is 86.07142857142858% accurate\n",
      "              precision    recall  f1-score   support\n",
      "\n",
      "           0       0.89      0.84      0.86       741\n",
      "           1       0.83      0.88      0.86       659\n",
      "\n",
      "    accuracy                           0.86      1400\n",
      "   macro avg       0.86      0.86      0.86      1400\n",
      "weighted avg       0.86      0.86      0.86      1400\n",
      "\n",
      "Accuracy: 86.07 %\n",
      "Precision: 86.2 %\n",
      "Recall: 86.07 %\n",
      "f1_score: 85.65 %\n",
      "TrainingAccuracy: 87.36 %\n"
     ]
    },
    {
     "data": {
      "image/png": "[encoded data removed]",
      "text/plain": [
       "<Figure size 640x480 with 2 Axes>"
      ]
     },
     "metadata": {},
     "output_type": "display_data"
    }
   ],
   "source": [
    "#GaussianNB\n",
    "from sklearn.naive_bayes import GaussianNB\n",
    "from sklearn.metrics import classification_report\n",
    "nb=GaussianNB()\n",
    "nb.fit(x_train,y_train)\n",
    "y_pred_nb=nb.predict(x_test)\n",
    "#print(\"predicted data is:\")\n",
    "#print(y_pred_nb)\n",
    "#print(\"actual data is:\")\n",
    "#print(np.array(y_test))\n",
    "\n",
    "print(f\"The the NB model is {accuracy_score(y_pred_nb,y_test)*100}% accurate\")\n",
    "print(classification_report(y_pred_nb,y_test))\n",
    "#Build confusion matrix\n",
    "# Calculate the confusion matrix\n",
    "\n",
    "cf_matrix = confusion_matrix(y_true=y_test, y_pred=y_pred_nb)\n",
    "#cf_matrix=confusion_matrix(y_test,y_pred, labels=['0','1'])\n",
    "#cf_matrix = confusion_matrix(y, y_pred)\n",
    "#print(cf_matrix)\n",
    "#sns.heatmap(cf_matrix, annot=True)\n",
    "sns.heatmap(cf_matrix/np.sum(cf_matrix), annot=True, fmt='.2%')\n",
    "a_nb = accuracy_score(y_pred_nb,y_test) \n",
    "p_nb= precision_score(y_test, y_pred_nb, average = 'weighted')\n",
    "r_nb = recall_score(y_test, y_pred_nb, average = 'weighted')\n",
    "print(\"Accuracy:\",round(a_nb*100,2),\"%\")\n",
    "print(\"Precision:\",round(p_nb*100,2),\"%\")\n",
    "print(\"Recall:\",round(r_nb*100,2),\"%\")\n",
    "f1_nb = f1_score(y_test, y_pred_nb)\n",
    "print(\"f1_score:\",round(f1_nb*100,2),\"%\")\n",
    "Training_accuracy_nb=accuracy_score(y_train, nb.predict(x_train))\n",
    "print(\"TrainingAccuracy:\",round(Training_accuracy_nb*100,2),\"%\")\n"
   ]
  },
  {
   "cell_type": "code",
   "execution_count": 65,
   "id": "bf57f571",
   "metadata": {},
   "outputs": [
    {
     "name": "stdout",
     "output_type": "stream",
     "text": [
      "              precision    recall  f1-score   support\n",
      "\n",
      "           0       0.71      0.80      0.75       622\n",
      "           1       0.82      0.74      0.78       778\n",
      "\n",
      "    accuracy                           0.77      1400\n",
      "   macro avg       0.77      0.77      0.76      1400\n",
      "weighted avg       0.77      0.77      0.77      1400\n",
      "\n",
      "Accuracy: 76.57 %\n",
      "Precision: 77.19 %\n",
      "Recall: 76.57 %\n",
      "f1_score: 77.81 %\n",
      "TrainingAccuracy: 99.73 %\n"
     ]
    },
    {
     "data": {
      "image/png": "[encoded data removed]",
      "text/plain": [
       "<Figure size 640x480 with 2 Axes>"
      ]
     },
     "metadata": {},
     "output_type": "display_data"
    }
   ],
   "source": [
    "#LogisticRegression\n",
    "from sklearn.linear_model import LogisticRegression\n",
    "lr = LogisticRegression(solver='liblinear', random_state=0)\n",
    "lr.fit(x_train,y_train)\n",
    "y_pred_lr=lr.predict(x_test)\n",
    "accuracy_score(y_pred_lr,y_test)\n",
    "print(classification_report(y_pred_lr,y_test))\n",
    "cf_matrix = confusion_matrix(y_true=y_test, y_pred=y_pred_lr)\n",
    "\n",
    "#print(cf_matrix)\n",
    "#sns.heatmap(cf_matrix, annot=True)\n",
    "sns.heatmap(cf_matrix/np.sum(cf_matrix), annot=True, fmt='.2%')\n",
    "a_lr = accuracy_score(y_pred_lr,y_test) \n",
    "p_lr = precision_score(y_pred_lr,y_test, average = 'weighted')\n",
    "r_lr = recall_score(y_pred_lr,y_test, average = 'weighted')\n",
    "print(\"Accuracy:\",round(a_lr*100,2),\"%\")\n",
    "print(\"Precision:\",round(p_lr*100,2),\"%\")\n",
    "print(\"Recall:\",round(r_lr*100,2),\"%\")\n",
    "f1_lr = f1_score(y_test, y_pred_lr)\n",
    "print(\"f1_score:\",round(f1_lr*100,2),\"%\")\n",
    "Training_accuracy_lr=accuracy_score(y_train, lr.predict(x_train))\n",
    "print(\"TrainingAccuracy:\",round(Training_accuracy_lr*100,2),\"%\")\n"
   ]
  },
  {
   "cell_type": "code",
   "execution_count": 66,
   "id": "a0c5ff32",
   "metadata": {},
   "outputs": [
    {
     "name": "stdout",
     "output_type": "stream",
     "text": [
      "              precision    recall  f1-score   support\n",
      "\n",
      "           0       0.00      1.00      0.00         1\n",
      "           1       1.00      0.50      0.67      1399\n",
      "\n",
      "    accuracy                           0.50      1400\n",
      "   macro avg       0.50      0.75      0.33      1400\n",
      "weighted avg       1.00      0.50      0.67      1400\n",
      "\n",
      "Accuracy: 50.07 %\n",
      "Precision: 99.93 %\n",
      "Recall: 50.07 %\n",
      "f1_score: 66.7 %\n",
      "TrainingAccuracy: 50.52 %\n"
     ]
    },
    {
     "data": {
      "image/png": "[encoded data removed]",
      "text/plain": [
       "<Figure size 640x480 with 2 Axes>"
      ]
     },
     "metadata": {},
     "output_type": "display_data"
    }
   ],
   "source": [
    "#KNeighborsClassifier\n",
    "from sklearn.neighbors import KNeighborsClassifier\n",
    "from sklearn.metrics import classification_report\n",
    "from sklearn.metrics import accuracy_score, confusion_matrix, precision_score, recall_score,f1_score\n",
    "knn=KNeighborsClassifier(n_neighbors=7)\n",
    "#knn=KNeighborsClassifier(n_neighbors=1, weights='uniform', algorithm='auto', leaf_size=30, p=2,metric='minkowski', metric_params=None, n_jobs=None)\n",
    "knn.fit(x_train,y_train)\n",
    "y_pred_knn=knn.predict(x_test)\n",
    "#y_pred_knn\n",
    "\n",
    "accuracy_score(y_pred_knn,y_test)\n",
    "print(classification_report(y_pred_knn,y_test))\n",
    "#Build confusion matrix\n",
    "# Calculate the confusion matrix\n",
    "\n",
    "cf_matrix = confusion_matrix(y_true=y_test, y_pred=y_pred_knn)\n",
    "\n",
    "#print(cf_matrix)\n",
    "#sns.heatmap(cf_matrix, annot=True)\n",
    "sns.heatmap(cf_matrix/np.sum(cf_matrix), annot=True, fmt='.2%')\n",
    "a_knn = accuracy_score(y_pred_knn,y_test) \n",
    "p_knn = precision_score(y_pred_knn,y_test, average = 'weighted')\n",
    "r_knn = recall_score(y_pred_knn,y_test, average = 'weighted')\n",
    "print(\"Accuracy:\",round(a_knn*100,2),\"%\")\n",
    "print(\"Precision:\",round(p_knn*100,2),\"%\")\n",
    "print(\"Recall:\",round(r_knn*100,2),\"%\")\n",
    "f1_knn = f1_score(y_test, y_pred_knn)\n",
    "print(\"f1_score:\",round(f1_knn*100,2),\"%\")\n",
    "Training_accuracy_knn=accuracy_score(y_train, knn.predict(x_train))\n",
    "print(\"TrainingAccuracy:\",round(Training_accuracy_knn*100,2),\"%\")\n"
   ]
  },
  {
   "cell_type": "code",
   "execution_count": 67,
   "id": "c8521818",
   "metadata": {},
   "outputs": [
    {
     "name": "stdout",
     "output_type": "stream",
     "text": [
      "RandomForestClassifier\n",
      "              precision    recall  f1-score   support\n",
      "\n",
      "           0       0.88      0.87      0.88       703\n",
      "           1       0.87      0.88      0.87       697\n",
      "\n",
      "    accuracy                           0.88      1400\n",
      "   macro avg       0.88      0.88      0.87      1400\n",
      "weighted avg       0.88      0.88      0.88      1400\n",
      "\n",
      "Accuracy: 87.5 %\n",
      "Precision: 87.5 %\n",
      "Recall: 87.5 %\n",
      "f1_score: 87.47 %\n",
      "TrainingAccuracy: 95.2 %\n"
     ]
    },
    {
     "data": {
      "image/png": "[encoded data removed]",
      "text/plain": [
       "<Figure size 640x480 with 2 Axes>"
      ]
     },
     "metadata": {},
     "output_type": "display_data"
    }
   ],
   "source": [
    "#RandomForestClassifier\n",
    "print(\"RandomForestClassifier\")\n",
    "\n",
    "from sklearn.ensemble import RandomForestClassifier\n",
    "#model_rf=RandomForestClassifier()\n",
    "model_rf=RandomForestClassifier(n_estimators=100, criterion='gini', max_depth=None, \n",
    "min_samples_split=12, min_samples_leaf=5, min_weight_fraction_leaf=0.0, max_features='log2',\n",
    "max_leaf_nodes=None, min_impurity_decrease=0.0, bootstrap=True, oob_score=False, n_jobs=None,   random_state=None, verbose=0, warm_start=False, class_weight=None, ccp_alpha=0.0, max_samples=None)\n",
    "\n",
    "model_rf.fit(x_train,y_train)\n",
    "y_pred_rf=model_rf.predict(x_test)\n",
    "y_pred_rf\n",
    "acc_rf=accuracy_score(y_pred_rf,y_test)\n",
    "print(classification_report(y_pred_rf,y_test))\n",
    "\n",
    "cf_matrix = confusion_matrix(y_true=y_test, y_pred=y_pred_rf)\n",
    "\n",
    "#print(cf_matrix)\n",
    "#sns.heatmap(cf_matrix, annot=True)\n",
    "sns.heatmap(cf_matrix/np.sum(cf_matrix), annot=True, fmt='.2%')\n",
    "a_rf = accuracy_score(y_pred_rf,y_test) \n",
    "p_rf = precision_score(y_pred_rf,y_test, average = 'weighted')\n",
    "r_rf = recall_score(y_pred_rf,y_test, average = 'weighted')\n",
    "print(\"Accuracy:\",round(a_rf*100,2),\"%\")\n",
    "print(\"Precision:\",round(p_rf*100,2),\"%\")\n",
    "print(\"Recall:\",round(r_rf*100,2),\"%\")\n",
    "f1_rf = f1_score(y_test, y_pred_rf)\n",
    "print(\"f1_score:\",round(f1_rf*100,2),\"%\")\n",
    "Training_accuracy_rf=accuracy_score(y_train, model_rf.predict(x_train))\n",
    "print(\"TrainingAccuracy:\",round(Training_accuracy_rf*100,2),\"%\")\n",
    "\n",
    "\n"
   ]
  },
  {
   "cell_type": "code",
   "execution_count": 68,
   "id": "9dfba768",
   "metadata": {},
   "outputs": [
    {
     "name": "stdout",
     "output_type": "stream",
     "text": [
      "Accuracy of voting_3_classifiers =  82.92857142857143\n",
      "Accuracy: 82.93 %\n",
      "Precision: 83.75 %\n",
      "Recall: 82.93 %\n",
      "f1_score: 82.82 %\n",
      "TrainingAccuracy: 97.0 %\n"
     ]
    }
   ],
   "source": [
    "from sklearn.ensemble import VotingClassifier\n",
    "from sklearn.tree import DecisionTreeClassifier\n",
    "from sklearn.metrics import accuracy_score, confusion_matrix, precision_score, recall_score\n",
    "from sklearn.metrics import mean_squared_error\n",
    "from sklearn.metrics import confusion_matrix, ConfusionMatrixDisplay\n",
    "\n",
    "voting_3_classifiers = VotingClassifier(estimators=[('GaussianNB', nb),('Decison Tree',dtc),\n",
    "                                                    ('KNN',knn),('logistic_regression',lr)], \n",
    "                                        voting='soft')\n",
    "voting_3_classifiers.fit(x_train,y_train)\n",
    "voting_predictions_soft = voting_3_classifiers.predict(x_test)\n",
    "print('Accuracy of voting_3_classifiers = ', accuracy_score(y_test, voting_predictions_soft)*100)\n",
    "a_voting_soft = accuracy_score(y_test, voting_predictions_soft)\n",
    "p_voting_soft = precision_score(y_test, voting_predictions_soft, average = 'weighted')\n",
    "r_voting_soft = recall_score(y_test, voting_predictions_soft, average = 'weighted')\n",
    "print(\"Accuracy:\",round(a_voting_soft*100,2),\"%\")\n",
    "print(\"Precision:\",round(p_voting_soft*100,2),\"%\")\n",
    "print(\"Recall:\",round(r_voting_soft*100,2),\"%\")\n",
    "f1_voting_soft = f1_score(y_test, voting_predictions_soft,average='weighted')\n",
    "print(\"f1_score:\",round(f1_voting_soft*100,2),\"%\")\n",
    "Training_accuracy_soft=accuracy_score(y_train, voting_3_classifiers.predict(x_train))\n",
    "print(\"TrainingAccuracy:\",round(Training_accuracy_soft*100,2),\"%\")\n",
    "\n"
   ]
  },
  {
   "cell_type": "code",
   "execution_count": 69,
   "id": "2d549373",
   "metadata": {},
   "outputs": [
    {
     "name": "stdout",
     "output_type": "stream",
     "text": [
      "Accuracy of voting_3_classifiers =  86.92857142857143\n",
      "Accuracy: 86.93 %\n",
      "Precision: 86.93 %\n",
      "Recall: 86.93 %\n",
      "f1_score: 86.84 %\n",
      "TrainingAccuracy: 86.93 %\n",
      "[[613  87]\n",
      " [ 96 604]]\n"
     ]
    },
    {
     "data": {
      "text/plain": [
       "<Axes: >"
      ]
     },
     "execution_count": 69,
     "metadata": {},
     "output_type": "execute_result"
    },
    {
     "data": {
      "image/png": "[encoded data removed]",
      "text/plain": [
       "<Figure size 640x480 with 2 Axes>"
      ]
     },
     "metadata": {},
     "output_type": "display_data"
    }
   ],
   "source": [
    "from sklearn.ensemble import VotingClassifier\n",
    "from sklearn.tree import DecisionTreeClassifier\n",
    "from sklearn.metrics import accuracy_score, confusion_matrix, precision_score, recall_score\n",
    "from sklearn.metrics import mean_squared_error\n",
    "from sklearn.metrics import confusion_matrix, ConfusionMatrixDisplay\n",
    "\n",
    "voting_3_classifiers = VotingClassifier(estimators=[ ('GaussianNB', nb),('Decison Tree',dtc),\n",
    "                                                    ('KNN',knn),('logistic_regression',lr)], \n",
    "                                        voting='hard')\n",
    "voting_3_classifiers.fit(x_train,y_train)\n",
    "voting_predictions_hard = voting_3_classifiers.predict(x_test)\n",
    "print('Accuracy of voting_3_classifiers = ', accuracy_score(y_test, voting_predictions_hard)*100)\n",
    "a_voting_hard = accuracy_score(y_test, voting_predictions_hard)\n",
    "p_voting_hard = precision_score(y_test, voting_predictions_hard, average = 'weighted')\n",
    "r_voting_hard = recall_score(y_test, voting_predictions_hard, average = 'weighted')\n",
    "print(\"Accuracy:\",round(a_voting_hard*100,2),\"%\")\n",
    "print(\"Precision:\",round(p_voting_hard*100,2),\"%\")\n",
    "print(\"Recall:\",round(r_voting_hard*100,2),\"%\")\n",
    "f1_voting_hard = f1_score(y_test, voting_predictions_hard)\n",
    "print(\"f1_score:\",round(f1_voting_hard*100,2),\"%\")\n",
    "Training_accuracy_voting_3_classifiers=accuracy_score(y_test, voting_3_classifiers.predict(x_test))\n",
    "print(\"TrainingAccuracy:\",round(Training_accuracy_voting_3_classifiers*100,2),\"%\")\n",
    "#Build confusion matrix\n",
    "# Calculate the confusion matrix\n",
    "\n",
    "cf_matrix = confusion_matrix(y_true=y_test, y_pred=voting_predictions_hard)\n",
    "#cf_matrix=confusion_matrix(y_test,y_pred, labels=['0','1'])\n",
    "#cf_matrix = confusion_matrix(y, y_pred)\n",
    "print(cf_matrix)\n",
    "#sns.heatmap(cf_matrix, annot=True)\n",
    "sns.heatmap(cf_matrix/np.sum(cf_matrix), annot=True, fmt='.2%')\n"
   ]
  },
  {
   "cell_type": "code",
   "execution_count": null,
   "id": "a4f15eb3",
   "metadata": {},
   "outputs": [],
   "source": [
    "#############################prediction############################\n",
    "#url=input('Enter URL of Image :')\n",
    "#img=imread(\"D:/SIoT/dataset/Augmented_DataSet/AugmentedSet_320px/trail_dataset_ac_healthy/Healthy_Copy/IMG_20220526_120225.jpg\")\n",
    "#img=imread(\"D:/SIoT/dataset/Augmented_DataSet/AugmentedSet_320px/trail_dataset_ac_healthy/Healthy_Copy/IMG_20220526_120225.jpg\")\n",
    "\n",
    "img=imread(r\"C:/Users/vivek/project/root/Augmentation/dataset/Diseased Augmented/a0_TR011585-1.jpg\")\n",
    "plt.imshow(img)\n",
    "plt.axis('off')\n",
    "plt.show()\n",
    "\n",
    "#img_gray = cv2.cvtColor(img, cv2.COLOR_BGR2GRAY) \n",
    "#img_gray=cv2.cvtColor(img,cv2.COLOR_BGR2RGB)\n",
    "img_gray = cv2.cvtColor(img, cv2.COLOR_BGR2GRAY)\n",
    "\n",
    "vectorized = img_gray.reshape((1,-1))\n",
    "vectorized = np.float32(vectorized)\n",
    "#let’s define k, attempts, and criteria as required by K-Means as a parameter\n",
    "criteria = (cv2.TERM_CRITERIA_EPS + cv2.TERM_CRITERIA_MAX_ITER, 10, 1.0)\n",
    "K = 9\n",
    "attempts=10\n",
    "ret,label,center=cv2.kmeans(vectorized,K,None,criteria,attempts,cv2.KMEANS_PP_CENTERS)\n",
    "\n",
    "center=np.uint8(center)\n",
    "res = center[label.flatten()]\n",
    "result_image = res.reshape((img_gray.shape))\n",
    "img_resize=resize(result_image,(64,64))  \n",
    "\n",
    "plt.imshow(result_image)\n",
    "plt.axis('off')\n",
    "plt.show()       \n",
    "\n",
    "flat_data_arr.append(img_resize.flatten())\n",
    "#edge_image = sobel(img_resize) # apply the filter\n",
    "l=[img_resize.flatten()]\n",
    "#print(len(l))\n",
    "\n",
    "probability_lr=lr.predict_proba(l)\n",
    "for ind,val in enumerate(Categories):\n",
    "    print(ind,val)\n",
    "    print(f'{val} = {probability_lr[0][ind]*100}%')\n",
    "print(\"The predicted image is : \"+Categories[lr.predict(l)[0]])"
   ]
  },
  {
   "cell_type": "code",
   "execution_count": null,
   "id": "6c88e33c",
   "metadata": {},
   "outputs": [],
   "source": [
    "import numpy as np\n",
    "import matplotlib.pyplot as plt\n",
    " \n",
    "# set width of bar\n",
    "barWidth = 0.15\n",
    "fig = plt.subplots(figsize =(30, 15))\n",
    " \n",
    "# set height of bar\n",
    "Accuracy = [a_rf*100, a_dtc*100, a_nb*100, a_knn*100, a_lr*100, a_voting_soft*100, a_voting_hard*100]\n",
    "Precision = [p_rf*100, p_dtc*100, p_nb*100, p_knn*100, p_lr*100, p_voting_soft*100, p_voting_hard*100]\n",
    "Recall = [r_rf*100, r_dtc*100, r_nb*100, r_knn*100, r_lr*100, r_voting_soft*100, r_voting_hard*100]\n",
    "f1_score = [f1_rf*100, f1_dtc*100, f1_nb*100, f1_knn*100, f1_lr*100, f1_voting_soft*100, f1_voting_hard*100]\n",
    " \n",
    "# Set position of bar on X axis\n",
    "br1 = np.arange(len(Accuracy))\n",
    "br2 = [x + barWidth for x in br1]\n",
    "br3 = [x + barWidth for x in br2]\n",
    "br4 = [x + barWidth for x in br3]\n",
    " \n",
    "# Make the plot\n",
    "plt.bar(br1, Accuracy, color ='r', width = barWidth,\n",
    "        edgecolor ='grey', label ='Accuracy')\n",
    "plt.bar(br2, Precision, color ='g', width = barWidth,\n",
    "        edgecolor ='grey', label ='Precision')\n",
    "plt.bar(br3, Recall, color ='b', width = barWidth,\n",
    "        edgecolor ='grey', label ='Recall')\n",
    "plt.bar(br4, f1_score, color ='c', width = barWidth,\n",
    "        edgecolor ='grey', label ='f1_score')\n",
    " \n",
    "# Adding Xticks\n",
    "plt.xlabel('Classifier', fontweight ='bold', fontsize = 15)\n",
    "plt.ylabel('Values %', fontweight ='bold', fontsize = 15)\n",
    "plt.xticks([r + barWidth for r in range(len(Accuracy))],\n",
    "        ['RandomForest', 'DecisionTree', 'GaussianNB', 'KNeighbors', 'LogisticRegression', 'SoftVoting', 'HardVoting'])\n",
    " \n",
    "plt.legend()\n",
    "plt.show()"
   ]
  },
  {
   "cell_type": "code",
   "execution_count": null,
   "id": "7d031bef",
   "metadata": {},
   "outputs": [],
   "source": []
  },
  {
   "cell_type": "code",
   "execution_count": null,
   "id": "9ee259b5",
   "metadata": {},
   "outputs": [],
   "source": []
  }
 ],
 "metadata": {
  "kernelspec": {
   "display_name": "Python 3 (ipykernel)",
   "language": "python",
   "name": "python3"
  },
  "language_info": {
   "codemirror_mode": {
    "name": "ipython",
    "version": 3
   },
   "file_extension": ".py",
   "mimetype": "text/x-python",
   "name": "python",
   "nbconvert_exporter": "python",
   "pygments_lexer": "ipython3",
   "version": "3.9.16"
  }
 },
 "nbformat": 4,
 "nbformat_minor": 5
}
